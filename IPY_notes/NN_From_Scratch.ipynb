{
 "cells": [
  {
   "cell_type": "markdown",
   "metadata": {},
   "source": [
    "# Neural Networks From Scratch\n",
    "This notebook is a compilation of all the neural networks from scratch tutorials\n",
    "\n",
    "$\\sum_{i=0}^{N}(W_i^T X_i) + b$ equation of a feed forward neural networks, forward propogation per layer."
   ]
  },
  {
   "cell_type": "markdown",
   "metadata": {},
   "source": [
    "## Tutorial 2 => Coding a Layer:\n",
    "sample python code to demonstrate a simplistic layer and understanding\n",
    "\n",
    "#### EXAMPLE 1:"
   ]
  },
  {
   "cell_type": "code",
   "execution_count": 30,
   "metadata": {},
   "outputs": [
    {
     "output_type": "stream",
     "name": "stdout",
     "text": "2.3\n"
    }
   ],
   "source": [
    "import sympy as sp\n",
    "#example 1: input-hidden layer perceptron\n",
    "inputs_t2: float = [1, 2, 3]\n",
    "weights_t2: float = [0.2, 0.8, -0.5]\n",
    "bias_t2: float = 2\n",
    "\n",
    "# single, 3 input perceptron, perceptron\n",
    "output_t2 = inputs_t2[0]*weights_t2[0] + inputs_t2[1]*weights_t2[1] + inputs_t2[2]*weights_t2[2] + bias_t2\n",
    "print(output_t2)"
   ]
  },
  {
   "cell_type": "code",
   "execution_count": 13,
   "metadata": {},
   "outputs": [
    {
     "output_type": "stream",
     "name": "stdout",
     "text": "4.8\n"
    }
   ],
   "source": [
    "#example 2: hidden-output layer perceptron\n",
    "#example 1: input-hidden layer perceptron\n",
    "inputs_t2: float = [1, 2, 3, 2.5]\n",
    "weights_t2: float = [0.2, 0.8, -0.5, 1.0]\n",
    "bias_t2: float = 2\n",
    "\n",
    "# single, 3 input perceptron, perceptron\n",
    "output_t2 = \\\n",
    "inputs_t2[0]*weights_t2[0] +\\\n",
    "inputs_t2[1]*weights_t2[1] +\\\n",
    "inputs_t2[2]*weights_t2[2] +\\\n",
    "inputs_t2[3]*weights_t2[3] +\\\n",
    "bias_t2\n",
    "print(output_t2)"
   ]
  },
  {
   "cell_type": "code",
   "execution_count": 38,
   "metadata": {},
   "outputs": [],
   "source": []
  }
 ],
 "metadata": {
  "language_info": {
   "codemirror_mode": {
    "name": "ipython",
    "version": 3
   },
   "file_extension": ".py",
   "mimetype": "text/x-python",
   "name": "python",
   "nbconvert_exporter": "python",
   "pygments_lexer": "ipython3",
   "version": "3.7.6-final"
  },
  "orig_nbformat": 2,
  "kernelspec": {
   "name": "python37664bit97fc2282629c4d67abba969718d64d84",
   "display_name": "Python 3.7.6 64-bit"
  }
 },
 "nbformat": 4,
 "nbformat_minor": 2
}