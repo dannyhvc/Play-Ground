{
 "nbformat": 4,
 "nbformat_minor": 2,
 "metadata": {
  "language_info": {
   "name": "python",
   "codemirror_mode": {
    "name": "ipython",
    "version": 3
   },
   "version": "3.7.6-final"
  },
  "orig_nbformat": 2,
  "file_extension": ".py",
  "mimetype": "text/x-python",
  "name": "python",
  "npconvert_exporter": "python",
  "pygments_lexer": "ipython3",
  "version": 3,
  "kernelspec": {
   "name": "python37664bit97fc2282629c4d67abba969718d64d84",
   "display_name": "Python 3.7.6 64-bit"
  }
 },
 "cells": [
  {
   "cell_type": "code",
   "execution_count": 2,
   "metadata": {},
   "outputs": [],
   "source": [
    "import numpy as np\n",
    "import pandas as pd"
   ]
  },
  {
   "cell_type": "markdown",
   "metadata": {},
   "source": [
    "### Finding X: ###\n",
    "\\begin{align}\n",
    "f(C_a[h_a,v_a], C_b[h_b,v_b]): (x - h_a)^2 + (y - v_a)^2 &= (x - h_b)^2 + (y - v_b)^2\\\\\n",
    "(x - h_a)^2 + (y - v_a)^2 &= (x - h_b)^2 + (y - v_b)^2\\\\\n",
    "(x - h_a)(x - h_a) + (y - v_a)(y - v_a) &= (x - h_b)(x - h_b) + (y - v_b)(y - v_b)\\\\\n",
    "(x^2 - 2h_ax + h_a^2) + (y^2 - 2v_ay + v_a^2) &= (x^2 - 2h_bx + h_b^2) + (y^2 - 2v_by + v_b^2)\\\\\n",
    "(x^2 - 2h_ax + h_a^2) - (x^2 - 2h_bx + h_b^2) &= (y^2 - 2v_by + v_b^2) - (y^2 - 2v_ay + v_a^2)\\\\\n",
    "(-2h_ax + h_a^2) + (2h_bx - h_b^2) &= (-2v_by + v_b^2) + (2v_ay - v_a^2)\\\\\n",
    "(2h_bx - 2h_ax + h_a^2 - h_b^2) &= (2v_ay -2v_by + v_b^2 - v_a^2)\\\\\n",
    "x(2h_b - 2h_a) + h_a^2 - h_b^2 &= y(2v_a -2v_b) + v_b^2 - v_a^2\\\\\n",
    "x(2h_b - 2h_a) &= y(2v_a -2v_b) + v_b^2 - v_a^2 - h_a^2 + h_b^2\\\\\n",
    "x &= \\frac{y(2v_a -2v_b) + (v_b^2 - v_a^2) - (h_a^2 + h_b^2)}{(2h_b - 2h_a)}\\\\\n",
    "\n",
    "\\end{align}"
   ]
  },
  {
   "cell_type": "markdown",
   "metadata": {},
   "source": [
    "### Sub equation into x with: $x^2 + y^2 = r^2$ ###\n",
    "\\begin{align}\n",
    "\\left(\\frac{y(2v_a -2v_b) + (v_b^2 - v_a^2) - (h_a^2 + h_b^2)}{(2h_b - 2h_a)}\\right)^2 + y^2 &= r^2\\\\\n",
    "\n",
    "\\left(\\frac{y(2v_a -2v_b) + (v_b^2 - v_a^2) - (h_a^2 + h_b^2)}\n",
    "{(2h_b - 2h_a)}\\right)\\left(\\frac{y(2v_a -2v_b) + (v_b^2-v_a^2)-(h_a^2+h_b^2)}{(2h_b-2h_a)}\\right) + y^2 &= r^2\\\\\n",
    "\n",
    "\n",
    "\\end{align}\n"
   ]
  }
 ]
}